{
 "metadata": {
  "name": "",
  "signature": "sha256:d4a8da8c16a3104b6661f2c35e2d6353ec19409f28bcb4bd3f5430580f35837a"
 },
 "nbformat": 3,
 "nbformat_minor": 0,
 "worksheets": [
  {
   "cells": [
    {
     "cell_type": "code",
     "collapsed": false,
     "input": [
      "'''\n",
      "test_rb.ipynb\n",
      "\n",
      "this notebook is a tutorial of the rb.py randomized benchmarking library\n",
      "\n",
      "Peter Karalekas (2015)\n",
      "'''\n",
      "%matplotlib osx\n",
      "import qutipsim.rb as rb"
     ],
     "language": "python",
     "metadata": {},
     "outputs": [],
     "prompt_number": 1
    },
    {
     "cell_type": "code",
     "collapsed": false,
     "input": [
      "'''\n",
      "instance variables\n",
      "    runs = number of simulations to run\n",
      "    tlen = length of the randomized pulse train\n",
      "'''\n",
      "runs = 100\n",
      "tlen = 50"
     ],
     "language": "python",
     "metadata": {},
     "outputs": [],
     "prompt_number": 2
    },
    {
     "cell_type": "code",
     "collapsed": false,
     "input": [
      "'''\n",
      "rbsim = RBSim()\n",
      "initializes a randomized benchmarking simulation\n",
      "'''\n",
      "rbsim = rb.RBSim()"
     ],
     "language": "python",
     "metadata": {},
     "outputs": [],
     "prompt_number": 3
    },
    {
     "cell_type": "code",
     "collapsed": false,
     "input": [
      "'''\n",
      "class variables\n",
      "\n",
      "cliffordM = dictionary of clifford matricies\n",
      "    'cxp' = pi/2 in +x\n",
      "    'cxm' = pi/2 in -x\n",
      "    'cyp' = pi/2 in +y\n",
      "    'cym' = pi/2 in -y\n",
      "    \n",
      "pauliM = dictionary of pauli matricies\n",
      "    'px' = pi in x\n",
      "    'py' = pi in y\n",
      "    \n",
      "matricies = combined dictionary\n",
      "'''\n",
      "rbsim.cliffordM['cxp']"
     ],
     "language": "python",
     "metadata": {},
     "outputs": [
      {
       "latex": [
        "Quantum object: dims = [[2], [2]], shape = [2, 2], type = oper, isherm = False\\begin{equation*}\\left(\\begin{array}{*{11}c}0.707 & -0.707j\\\\-0.707j & 0.707\\\\\\end{array}\\right)\\end{equation*}"
       ],
       "metadata": {},
       "output_type": "pyout",
       "prompt_number": 4,
       "text": [
        "Quantum object: dims = [[2], [2]], shape = [2, 2], type = oper, isherm = False\n",
        "Qobj data =\n",
        "[[ 0.70710678+0.j          0.00000000-0.70710678j]\n",
        " [ 0.00000000-0.70710678j  0.70710678+0.j        ]]"
       ]
      }
     ],
     "prompt_number": 4
    },
    {
     "cell_type": "code",
     "collapsed": false,
     "input": [
      "''' \n",
      "avg, sds = simulate(runs, tlen)\n",
      "runs a randomized benchmarking simulation\n",
      "\n",
      "arguments:\n",
      "    runs = number of simulations to run\n",
      "    tlen = length of the randomized pulse train\n",
      "\n",
      "return:\n",
      "    avg = array of average fidelity\n",
      "    sds = array of standard deviations\n",
      "    \n",
      "used methods:\n",
      "    build_train\n",
      "    sim_ideal\n",
      "    build_sequence\n",
      "    sim_actual\n",
      "    fidelity\n",
      "    plot_sequence\n",
      "    plot_bloch\n",
      "    \n",
      "simulate uses many other class methods with default arguments\n",
      "but, these methods can be used standalone (see below)\n",
      "'''\n",
      "avg, sds = rbsim.simulate(runs, tlen)"
     ],
     "language": "python",
     "metadata": {},
     "outputs": [
      {
       "output_type": "stream",
       "stream": "stdout",
       "text": [
        "Building Hamiltonian...\n",
        "Solving master equation... (rhs_reuse = False)\n",
        "Calculating expectation values..."
       ]
      },
      {
       "output_type": "stream",
       "stream": "stdout",
       "text": [
        "\n",
        "Building Hamiltonian..."
       ]
      },
      {
       "output_type": "stream",
       "stream": "stdout",
       "text": [
        "\n",
        "Solving master equation... (rhs_reuse = False)\n",
        "Calculating expectation values..."
       ]
      },
      {
       "output_type": "stream",
       "stream": "stdout",
       "text": [
        "\n",
        "Building Hamiltonian..."
       ]
      },
      {
       "output_type": "stream",
       "stream": "stdout",
       "text": [
        "\n",
        "Solving master equation... (rhs_reuse = False)\n",
        "Calculating expectation values..."
       ]
      },
      {
       "output_type": "stream",
       "stream": "stdout",
       "text": [
        "\n",
        "Building Hamiltonian..."
       ]
      },
      {
       "output_type": "stream",
       "stream": "stdout",
       "text": [
        "\n",
        "Solving master equation... (rhs_reuse = False)\n",
        "Calculating expectation values..."
       ]
      },
      {
       "output_type": "stream",
       "stream": "stdout",
       "text": [
        "\n",
        "Building Hamiltonian..."
       ]
      },
      {
       "output_type": "stream",
       "stream": "stdout",
       "text": [
        "\n",
        "Solving master equation... (rhs_reuse = False)\n",
        "Calculating expectation values..."
       ]
      },
      {
       "output_type": "stream",
       "stream": "stdout",
       "text": [
        "\n",
        "Building Hamiltonian..."
       ]
      },
      {
       "output_type": "stream",
       "stream": "stdout",
       "text": [
        "\n",
        "Solving master equation... (rhs_reuse = False)\n",
        "Calculating expectation values..."
       ]
      },
      {
       "output_type": "stream",
       "stream": "stdout",
       "text": [
        "\n",
        "Building Hamiltonian..."
       ]
      },
      {
       "output_type": "stream",
       "stream": "stdout",
       "text": [
        "\n",
        "Solving master equation... (rhs_reuse = False)\n",
        "Calculating expectation values..."
       ]
      },
      {
       "output_type": "stream",
       "stream": "stdout",
       "text": [
        "\n",
        "Building Hamiltonian..."
       ]
      },
      {
       "output_type": "stream",
       "stream": "stdout",
       "text": [
        "\n",
        "Solving master equation... (rhs_reuse = False)\n",
        "Calculating expectation values..."
       ]
      },
      {
       "output_type": "stream",
       "stream": "stdout",
       "text": [
        "\n",
        "Building Hamiltonian..."
       ]
      },
      {
       "output_type": "stream",
       "stream": "stdout",
       "text": [
        "\n",
        "Solving master equation... (rhs_reuse = False)\n",
        "Calculating expectation values..."
       ]
      },
      {
       "output_type": "stream",
       "stream": "stdout",
       "text": [
        "\n",
        "Building Hamiltonian..."
       ]
      },
      {
       "output_type": "stream",
       "stream": "stdout",
       "text": [
        "\n",
        "Solving master equation... (rhs_reuse = False)\n",
        "Calculating expectation values..."
       ]
      },
      {
       "output_type": "stream",
       "stream": "stdout",
       "text": [
        "\n",
        "Building Hamiltonian..."
       ]
      },
      {
       "output_type": "stream",
       "stream": "stdout",
       "text": [
        "\n",
        "Solving master equation... (rhs_reuse = False)\n",
        "Calculating expectation values..."
       ]
      },
      {
       "output_type": "stream",
       "stream": "stdout",
       "text": [
        "\n",
        "Building Hamiltonian..."
       ]
      },
      {
       "output_type": "stream",
       "stream": "stdout",
       "text": [
        "\n",
        "Solving master equation... (rhs_reuse = False)\n",
        "Calculating expectation values..."
       ]
      },
      {
       "output_type": "stream",
       "stream": "stdout",
       "text": [
        "\n",
        "Building Hamiltonian..."
       ]
      },
      {
       "output_type": "stream",
       "stream": "stdout",
       "text": [
        "\n",
        "Solving master equation... (rhs_reuse = False)\n",
        "Calculating expectation values..."
       ]
      },
      {
       "output_type": "stream",
       "stream": "stdout",
       "text": [
        "\n",
        "Building Hamiltonian..."
       ]
      },
      {
       "output_type": "stream",
       "stream": "stdout",
       "text": [
        "\n",
        "Solving master equation... (rhs_reuse = False)\n",
        "Calculating expectation values..."
       ]
      },
      {
       "output_type": "stream",
       "stream": "stdout",
       "text": [
        "\n",
        "Building Hamiltonian..."
       ]
      },
      {
       "output_type": "stream",
       "stream": "stdout",
       "text": [
        "\n",
        "Solving master equation... (rhs_reuse = False)\n",
        "Calculating expectation values..."
       ]
      },
      {
       "output_type": "stream",
       "stream": "stdout",
       "text": [
        "\n",
        "Building Hamiltonian..."
       ]
      },
      {
       "output_type": "stream",
       "stream": "stdout",
       "text": [
        "\n",
        "Solving master equation... (rhs_reuse = False)\n",
        "Calculating expectation values..."
       ]
      },
      {
       "output_type": "stream",
       "stream": "stdout",
       "text": [
        "\n",
        "Building Hamiltonian..."
       ]
      },
      {
       "output_type": "stream",
       "stream": "stdout",
       "text": [
        "\n",
        "Solving master equation... (rhs_reuse = False)\n",
        "Calculating expectation values..."
       ]
      },
      {
       "output_type": "stream",
       "stream": "stdout",
       "text": [
        "\n",
        "Building Hamiltonian..."
       ]
      },
      {
       "output_type": "stream",
       "stream": "stdout",
       "text": [
        "\n",
        "Solving master equation... (rhs_reuse = False)\n",
        "Calculating expectation values..."
       ]
      },
      {
       "output_type": "stream",
       "stream": "stdout",
       "text": [
        "\n",
        "Building Hamiltonian..."
       ]
      },
      {
       "output_type": "stream",
       "stream": "stdout",
       "text": [
        "\n",
        "Solving master equation... (rhs_reuse = False)\n",
        "Calculating expectation values..."
       ]
      },
      {
       "output_type": "stream",
       "stream": "stdout",
       "text": [
        "\n",
        "Building Hamiltonian..."
       ]
      },
      {
       "output_type": "stream",
       "stream": "stdout",
       "text": [
        "\n",
        "Solving master equation... (rhs_reuse = False)\n",
        "Calculating expectation values..."
       ]
      },
      {
       "output_type": "stream",
       "stream": "stdout",
       "text": [
        "\n",
        "Building Hamiltonian..."
       ]
      },
      {
       "output_type": "stream",
       "stream": "stdout",
       "text": [
        "\n",
        "Solving master equation... (rhs_reuse = False)\n",
        "Calculating expectation values..."
       ]
      },
      {
       "output_type": "stream",
       "stream": "stdout",
       "text": [
        "\n",
        "Building Hamiltonian..."
       ]
      },
      {
       "output_type": "stream",
       "stream": "stdout",
       "text": [
        "\n",
        "Solving master equation... (rhs_reuse = False)\n",
        "Calculating expectation values..."
       ]
      },
      {
       "output_type": "stream",
       "stream": "stdout",
       "text": [
        "\n",
        "Building Hamiltonian..."
       ]
      },
      {
       "output_type": "stream",
       "stream": "stdout",
       "text": [
        "\n",
        "Solving master equation... (rhs_reuse = False)\n",
        "Calculating expectation values..."
       ]
      },
      {
       "output_type": "stream",
       "stream": "stdout",
       "text": [
        "\n",
        "Building Hamiltonian..."
       ]
      },
      {
       "output_type": "stream",
       "stream": "stdout",
       "text": [
        "\n",
        "Solving master equation... (rhs_reuse = False)\n",
        "Calculating expectation values..."
       ]
      },
      {
       "output_type": "stream",
       "stream": "stdout",
       "text": [
        "\n",
        "Building Hamiltonian..."
       ]
      },
      {
       "output_type": "stream",
       "stream": "stdout",
       "text": [
        "\n",
        "Solving master equation... (rhs_reuse = False)\n",
        "Calculating expectation values..."
       ]
      },
      {
       "output_type": "stream",
       "stream": "stdout",
       "text": [
        "\n",
        "Building Hamiltonian..."
       ]
      },
      {
       "output_type": "stream",
       "stream": "stdout",
       "text": [
        "\n",
        "Solving master equation... (rhs_reuse = False)\n",
        "Calculating expectation values..."
       ]
      },
      {
       "output_type": "stream",
       "stream": "stdout",
       "text": [
        "\n",
        "Building Hamiltonian..."
       ]
      },
      {
       "output_type": "stream",
       "stream": "stdout",
       "text": [
        "\n",
        "Solving master equation... (rhs_reuse = False)\n",
        "Calculating expectation values..."
       ]
      },
      {
       "output_type": "stream",
       "stream": "stdout",
       "text": [
        "\n",
        "Building Hamiltonian..."
       ]
      },
      {
       "output_type": "stream",
       "stream": "stdout",
       "text": [
        "\n",
        "Solving master equation... (rhs_reuse = False)\n",
        "Calculating expectation values..."
       ]
      },
      {
       "output_type": "stream",
       "stream": "stdout",
       "text": [
        "\n",
        "Building Hamiltonian..."
       ]
      },
      {
       "output_type": "stream",
       "stream": "stdout",
       "text": [
        "\n",
        "Solving master equation... (rhs_reuse = False)\n",
        "Calculating expectation values..."
       ]
      },
      {
       "output_type": "stream",
       "stream": "stdout",
       "text": [
        "\n",
        "Building Hamiltonian..."
       ]
      },
      {
       "output_type": "stream",
       "stream": "stdout",
       "text": [
        "\n",
        "Solving master equation... (rhs_reuse = False)\n",
        "Calculating expectation values..."
       ]
      },
      {
       "output_type": "stream",
       "stream": "stdout",
       "text": [
        "\n",
        "Building Hamiltonian..."
       ]
      },
      {
       "output_type": "stream",
       "stream": "stdout",
       "text": [
        "\n",
        "Solving master equation... (rhs_reuse = False)\n",
        "Calculating expectation values..."
       ]
      },
      {
       "output_type": "stream",
       "stream": "stdout",
       "text": [
        "\n",
        "Building Hamiltonian..."
       ]
      },
      {
       "output_type": "stream",
       "stream": "stdout",
       "text": [
        "\n",
        "Solving master equation... (rhs_reuse = False)\n",
        "Calculating expectation values..."
       ]
      },
      {
       "output_type": "stream",
       "stream": "stdout",
       "text": [
        "\n",
        "Building Hamiltonian..."
       ]
      },
      {
       "output_type": "stream",
       "stream": "stdout",
       "text": [
        "\n",
        "Solving master equation... (rhs_reuse = False)\n",
        "Calculating expectation values..."
       ]
      },
      {
       "output_type": "stream",
       "stream": "stdout",
       "text": [
        "\n",
        "Building Hamiltonian..."
       ]
      },
      {
       "output_type": "stream",
       "stream": "stdout",
       "text": [
        "\n",
        "Solving master equation... (rhs_reuse = False)\n",
        "Calculating expectation values..."
       ]
      },
      {
       "output_type": "stream",
       "stream": "stdout",
       "text": [
        "\n",
        "Building Hamiltonian..."
       ]
      },
      {
       "output_type": "stream",
       "stream": "stdout",
       "text": [
        "\n",
        "Solving master equation... (rhs_reuse = False)\n",
        "Calculating expectation values..."
       ]
      },
      {
       "output_type": "stream",
       "stream": "stdout",
       "text": [
        "\n",
        "Building Hamiltonian..."
       ]
      },
      {
       "output_type": "stream",
       "stream": "stdout",
       "text": [
        "\n",
        "Solving master equation... (rhs_reuse = False)\n",
        "Calculating expectation values..."
       ]
      },
      {
       "output_type": "stream",
       "stream": "stdout",
       "text": [
        "\n",
        "Building Hamiltonian..."
       ]
      },
      {
       "output_type": "stream",
       "stream": "stdout",
       "text": [
        "\n",
        "Solving master equation... (rhs_reuse = False)\n",
        "Calculating expectation values..."
       ]
      },
      {
       "output_type": "stream",
       "stream": "stdout",
       "text": [
        "\n",
        "Building Hamiltonian..."
       ]
      },
      {
       "output_type": "stream",
       "stream": "stdout",
       "text": [
        "\n",
        "Solving master equation... (rhs_reuse = False)\n",
        "Calculating expectation values..."
       ]
      },
      {
       "output_type": "stream",
       "stream": "stdout",
       "text": [
        "\n",
        "Building Hamiltonian..."
       ]
      },
      {
       "output_type": "stream",
       "stream": "stdout",
       "text": [
        "\n",
        "Solving master equation... (rhs_reuse = False)\n",
        "Calculating expectation values..."
       ]
      },
      {
       "output_type": "stream",
       "stream": "stdout",
       "text": [
        "\n",
        "Building Hamiltonian..."
       ]
      },
      {
       "output_type": "stream",
       "stream": "stdout",
       "text": [
        "\n",
        "Solving master equation... (rhs_reuse = False)\n",
        "Calculating expectation values..."
       ]
      },
      {
       "output_type": "stream",
       "stream": "stdout",
       "text": [
        "\n",
        "Building Hamiltonian..."
       ]
      },
      {
       "output_type": "stream",
       "stream": "stdout",
       "text": [
        "\n",
        "Solving master equation... (rhs_reuse = False)\n",
        "Calculating expectation values..."
       ]
      },
      {
       "output_type": "stream",
       "stream": "stdout",
       "text": [
        "\n",
        "Building Hamiltonian..."
       ]
      },
      {
       "output_type": "stream",
       "stream": "stdout",
       "text": [
        "\n",
        "Solving master equation... (rhs_reuse = False)\n",
        "Calculating expectation values..."
       ]
      },
      {
       "output_type": "stream",
       "stream": "stdout",
       "text": [
        "\n",
        "Building Hamiltonian..."
       ]
      },
      {
       "output_type": "stream",
       "stream": "stdout",
       "text": [
        "\n",
        "Solving master equation... (rhs_reuse = False)\n",
        "Calculating expectation values..."
       ]
      },
      {
       "output_type": "stream",
       "stream": "stdout",
       "text": [
        "\n",
        "Building Hamiltonian..."
       ]
      },
      {
       "output_type": "stream",
       "stream": "stdout",
       "text": [
        "\n",
        "Solving master equation... (rhs_reuse = False)\n",
        "Calculating expectation values..."
       ]
      },
      {
       "output_type": "stream",
       "stream": "stdout",
       "text": [
        "\n",
        "Building Hamiltonian..."
       ]
      },
      {
       "output_type": "stream",
       "stream": "stdout",
       "text": [
        "\n",
        "Solving master equation... (rhs_reuse = False)\n",
        "Calculating expectation values..."
       ]
      },
      {
       "output_type": "stream",
       "stream": "stdout",
       "text": [
        "\n",
        "Building Hamiltonian..."
       ]
      },
      {
       "output_type": "stream",
       "stream": "stdout",
       "text": [
        "\n",
        "Solving master equation... (rhs_reuse = False)\n",
        "Calculating expectation values..."
       ]
      },
      {
       "output_type": "stream",
       "stream": "stdout",
       "text": [
        "\n",
        "Building Hamiltonian..."
       ]
      },
      {
       "output_type": "stream",
       "stream": "stdout",
       "text": [
        "\n",
        "Solving master equation... (rhs_reuse = False)\n",
        "Calculating expectation values..."
       ]
      },
      {
       "output_type": "stream",
       "stream": "stdout",
       "text": [
        "\n",
        "Building Hamiltonian..."
       ]
      },
      {
       "output_type": "stream",
       "stream": "stdout",
       "text": [
        "\n",
        "Solving master equation... (rhs_reuse = False)\n",
        "Calculating expectation values..."
       ]
      },
      {
       "output_type": "stream",
       "stream": "stdout",
       "text": [
        "\n",
        "Building Hamiltonian..."
       ]
      },
      {
       "output_type": "stream",
       "stream": "stdout",
       "text": [
        "\n",
        "Solving master equation... (rhs_reuse = False)\n",
        "Calculating expectation values..."
       ]
      },
      {
       "output_type": "stream",
       "stream": "stdout",
       "text": [
        "\n",
        "Building Hamiltonian..."
       ]
      },
      {
       "output_type": "stream",
       "stream": "stdout",
       "text": [
        "\n",
        "Solving master equation... (rhs_reuse = False)\n",
        "Calculating expectation values..."
       ]
      },
      {
       "output_type": "stream",
       "stream": "stdout",
       "text": [
        "\n",
        "Building Hamiltonian..."
       ]
      },
      {
       "output_type": "stream",
       "stream": "stdout",
       "text": [
        "\n",
        "Solving master equation... (rhs_reuse = False)\n",
        "Calculating expectation values..."
       ]
      },
      {
       "output_type": "stream",
       "stream": "stdout",
       "text": [
        "\n",
        "Building Hamiltonian..."
       ]
      },
      {
       "output_type": "stream",
       "stream": "stdout",
       "text": [
        "\n",
        "Solving master equation... (rhs_reuse = False)\n",
        "Calculating expectation values..."
       ]
      },
      {
       "output_type": "stream",
       "stream": "stdout",
       "text": [
        "\n",
        "Building Hamiltonian..."
       ]
      },
      {
       "output_type": "stream",
       "stream": "stdout",
       "text": [
        "\n",
        "Solving master equation... (rhs_reuse = False)\n",
        "Calculating expectation values..."
       ]
      },
      {
       "output_type": "stream",
       "stream": "stdout",
       "text": [
        "\n",
        "Building Hamiltonian..."
       ]
      },
      {
       "output_type": "stream",
       "stream": "stdout",
       "text": [
        "\n",
        "Solving master equation... (rhs_reuse = False)\n",
        "Calculating expectation values..."
       ]
      },
      {
       "output_type": "stream",
       "stream": "stdout",
       "text": [
        "\n",
        "Building Hamiltonian..."
       ]
      },
      {
       "output_type": "stream",
       "stream": "stdout",
       "text": [
        "\n",
        "Solving master equation... (rhs_reuse = False)\n",
        "Calculating expectation values..."
       ]
      },
      {
       "output_type": "stream",
       "stream": "stdout",
       "text": [
        "\n",
        "Building Hamiltonian..."
       ]
      },
      {
       "output_type": "stream",
       "stream": "stdout",
       "text": [
        "\n",
        "Solving master equation... (rhs_reuse = False)\n",
        "Calculating expectation values..."
       ]
      },
      {
       "output_type": "stream",
       "stream": "stdout",
       "text": [
        "\n",
        "Building Hamiltonian..."
       ]
      },
      {
       "output_type": "stream",
       "stream": "stdout",
       "text": [
        "\n",
        "Solving master equation... (rhs_reuse = False)\n",
        "Calculating expectation values..."
       ]
      },
      {
       "output_type": "stream",
       "stream": "stdout",
       "text": [
        "\n",
        "Building Hamiltonian..."
       ]
      },
      {
       "output_type": "stream",
       "stream": "stdout",
       "text": [
        "\n",
        "Solving master equation... (rhs_reuse = False)\n",
        "Calculating expectation values..."
       ]
      },
      {
       "output_type": "stream",
       "stream": "stdout",
       "text": [
        "\n",
        "Building Hamiltonian..."
       ]
      },
      {
       "output_type": "stream",
       "stream": "stdout",
       "text": [
        "\n",
        "Solving master equation... (rhs_reuse = False)\n",
        "Calculating expectation values..."
       ]
      },
      {
       "output_type": "stream",
       "stream": "stdout",
       "text": [
        "\n",
        "Building Hamiltonian..."
       ]
      },
      {
       "output_type": "stream",
       "stream": "stdout",
       "text": [
        "\n",
        "Solving master equation... (rhs_reuse = False)\n",
        "Calculating expectation values..."
       ]
      },
      {
       "output_type": "stream",
       "stream": "stdout",
       "text": [
        "\n",
        "Building Hamiltonian..."
       ]
      },
      {
       "output_type": "stream",
       "stream": "stdout",
       "text": [
        "\n",
        "Solving master equation... (rhs_reuse = False)\n",
        "Calculating expectation values..."
       ]
      },
      {
       "output_type": "stream",
       "stream": "stdout",
       "text": [
        "\n",
        "Building Hamiltonian..."
       ]
      },
      {
       "output_type": "stream",
       "stream": "stdout",
       "text": [
        "\n",
        "Solving master equation... (rhs_reuse = False)\n",
        "Calculating expectation values..."
       ]
      },
      {
       "output_type": "stream",
       "stream": "stdout",
       "text": [
        "\n",
        "Building Hamiltonian..."
       ]
      },
      {
       "output_type": "stream",
       "stream": "stdout",
       "text": [
        "\n",
        "Solving master equation... (rhs_reuse = False)\n",
        "Calculating expectation values..."
       ]
      },
      {
       "output_type": "stream",
       "stream": "stdout",
       "text": [
        "\n",
        "Building Hamiltonian..."
       ]
      },
      {
       "output_type": "stream",
       "stream": "stdout",
       "text": [
        "\n",
        "Solving master equation... (rhs_reuse = False)\n",
        "Calculating expectation values..."
       ]
      },
      {
       "output_type": "stream",
       "stream": "stdout",
       "text": [
        "\n",
        "Building Hamiltonian..."
       ]
      },
      {
       "output_type": "stream",
       "stream": "stdout",
       "text": [
        "\n",
        "Solving master equation... (rhs_reuse = False)\n",
        "Calculating expectation values..."
       ]
      },
      {
       "output_type": "stream",
       "stream": "stdout",
       "text": [
        "\n",
        "Building Hamiltonian..."
       ]
      },
      {
       "output_type": "stream",
       "stream": "stdout",
       "text": [
        "\n",
        "Solving master equation... (rhs_reuse = False)\n",
        "Calculating expectation values..."
       ]
      },
      {
       "output_type": "stream",
       "stream": "stdout",
       "text": [
        "\n",
        "Building Hamiltonian..."
       ]
      },
      {
       "output_type": "stream",
       "stream": "stdout",
       "text": [
        "\n",
        "Solving master equation... (rhs_reuse = False)\n",
        "Calculating expectation values..."
       ]
      },
      {
       "output_type": "stream",
       "stream": "stdout",
       "text": [
        "\n",
        "Building Hamiltonian..."
       ]
      },
      {
       "output_type": "stream",
       "stream": "stdout",
       "text": [
        "\n",
        "Solving master equation... (rhs_reuse = False)\n",
        "Calculating expectation values..."
       ]
      },
      {
       "output_type": "stream",
       "stream": "stdout",
       "text": [
        "\n",
        "Building Hamiltonian..."
       ]
      },
      {
       "output_type": "stream",
       "stream": "stdout",
       "text": [
        "\n",
        "Solving master equation... (rhs_reuse = False)\n",
        "Calculating expectation values..."
       ]
      },
      {
       "output_type": "stream",
       "stream": "stdout",
       "text": [
        "\n",
        "Building Hamiltonian..."
       ]
      },
      {
       "output_type": "stream",
       "stream": "stdout",
       "text": [
        "\n",
        "Solving master equation... (rhs_reuse = False)\n",
        "Calculating expectation values..."
       ]
      },
      {
       "output_type": "stream",
       "stream": "stdout",
       "text": [
        "\n",
        "Building Hamiltonian..."
       ]
      },
      {
       "output_type": "stream",
       "stream": "stdout",
       "text": [
        "\n",
        "Solving master equation... (rhs_reuse = False)\n",
        "Calculating expectation values..."
       ]
      },
      {
       "output_type": "stream",
       "stream": "stdout",
       "text": [
        "\n",
        "Building Hamiltonian..."
       ]
      },
      {
       "output_type": "stream",
       "stream": "stdout",
       "text": [
        "\n",
        "Solving master equation... (rhs_reuse = False)\n",
        "Calculating expectation values..."
       ]
      },
      {
       "output_type": "stream",
       "stream": "stdout",
       "text": [
        "\n",
        "Building Hamiltonian..."
       ]
      },
      {
       "output_type": "stream",
       "stream": "stdout",
       "text": [
        "\n",
        "Solving master equation... (rhs_reuse = False)\n",
        "Calculating expectation values..."
       ]
      },
      {
       "output_type": "stream",
       "stream": "stdout",
       "text": [
        "\n",
        "Building Hamiltonian..."
       ]
      },
      {
       "output_type": "stream",
       "stream": "stdout",
       "text": [
        "\n",
        "Solving master equation... (rhs_reuse = False)\n",
        "Calculating expectation values..."
       ]
      },
      {
       "output_type": "stream",
       "stream": "stdout",
       "text": [
        "\n",
        "Building Hamiltonian..."
       ]
      },
      {
       "output_type": "stream",
       "stream": "stdout",
       "text": [
        "\n",
        "Solving master equation... (rhs_reuse = False)\n",
        "Calculating expectation values..."
       ]
      },
      {
       "output_type": "stream",
       "stream": "stdout",
       "text": [
        "\n",
        "Building Hamiltonian..."
       ]
      },
      {
       "output_type": "stream",
       "stream": "stdout",
       "text": [
        "\n",
        "Solving master equation... (rhs_reuse = False)\n",
        "Calculating expectation values..."
       ]
      },
      {
       "output_type": "stream",
       "stream": "stdout",
       "text": [
        "\n",
        "Building Hamiltonian..."
       ]
      },
      {
       "output_type": "stream",
       "stream": "stdout",
       "text": [
        "\n",
        "Solving master equation... (rhs_reuse = False)\n",
        "Calculating expectation values..."
       ]
      },
      {
       "output_type": "stream",
       "stream": "stdout",
       "text": [
        "\n",
        "Building Hamiltonian..."
       ]
      },
      {
       "output_type": "stream",
       "stream": "stdout",
       "text": [
        "\n",
        "Solving master equation... (rhs_reuse = False)\n",
        "Calculating expectation values..."
       ]
      },
      {
       "output_type": "stream",
       "stream": "stdout",
       "text": [
        "\n",
        "Building Hamiltonian..."
       ]
      },
      {
       "output_type": "stream",
       "stream": "stdout",
       "text": [
        "\n",
        "Solving master equation... (rhs_reuse = False)\n",
        "Calculating expectation values..."
       ]
      },
      {
       "output_type": "stream",
       "stream": "stdout",
       "text": [
        "\n",
        "Building Hamiltonian..."
       ]
      },
      {
       "output_type": "stream",
       "stream": "stdout",
       "text": [
        "\n",
        "Solving master equation... (rhs_reuse = False)\n",
        "Calculating expectation values..."
       ]
      },
      {
       "output_type": "stream",
       "stream": "stdout",
       "text": [
        "\n",
        "Building Hamiltonian..."
       ]
      },
      {
       "output_type": "stream",
       "stream": "stdout",
       "text": [
        "\n",
        "Solving master equation... (rhs_reuse = False)\n",
        "Calculating expectation values..."
       ]
      },
      {
       "output_type": "stream",
       "stream": "stdout",
       "text": [
        "\n",
        "Building Hamiltonian..."
       ]
      },
      {
       "output_type": "stream",
       "stream": "stdout",
       "text": [
        "\n",
        "Solving master equation... (rhs_reuse = False)\n",
        "Calculating expectation values..."
       ]
      },
      {
       "output_type": "stream",
       "stream": "stdout",
       "text": [
        "\n",
        "Building Hamiltonian..."
       ]
      },
      {
       "output_type": "stream",
       "stream": "stdout",
       "text": [
        "\n",
        "Solving master equation... (rhs_reuse = False)\n",
        "Calculating expectation values..."
       ]
      },
      {
       "output_type": "stream",
       "stream": "stdout",
       "text": [
        "\n",
        "Building Hamiltonian..."
       ]
      },
      {
       "output_type": "stream",
       "stream": "stdout",
       "text": [
        "\n",
        "Solving master equation... (rhs_reuse = False)\n",
        "Calculating expectation values..."
       ]
      },
      {
       "output_type": "stream",
       "stream": "stdout",
       "text": [
        "\n",
        "Building Hamiltonian..."
       ]
      },
      {
       "output_type": "stream",
       "stream": "stdout",
       "text": [
        "\n",
        "Solving master equation... (rhs_reuse = False)\n",
        "Calculating expectation values..."
       ]
      },
      {
       "output_type": "stream",
       "stream": "stdout",
       "text": [
        "\n",
        "Building Hamiltonian..."
       ]
      },
      {
       "output_type": "stream",
       "stream": "stdout",
       "text": [
        "\n",
        "Solving master equation... (rhs_reuse = False)\n",
        "Calculating expectation values..."
       ]
      },
      {
       "output_type": "stream",
       "stream": "stdout",
       "text": [
        "\n",
        "Building Hamiltonian..."
       ]
      },
      {
       "output_type": "stream",
       "stream": "stdout",
       "text": [
        "\n",
        "Solving master equation... (rhs_reuse = False)\n",
        "Calculating expectation values..."
       ]
      },
      {
       "output_type": "stream",
       "stream": "stdout",
       "text": [
        "\n",
        "Building Hamiltonian..."
       ]
      },
      {
       "output_type": "stream",
       "stream": "stdout",
       "text": [
        "\n",
        "Solving master equation... (rhs_reuse = False)\n",
        "Calculating expectation values..."
       ]
      },
      {
       "output_type": "stream",
       "stream": "stdout",
       "text": [
        "\n",
        "Building Hamiltonian..."
       ]
      },
      {
       "output_type": "stream",
       "stream": "stdout",
       "text": [
        "\n",
        "Solving master equation... (rhs_reuse = False)\n",
        "Calculating expectation values..."
       ]
      },
      {
       "output_type": "stream",
       "stream": "stdout",
       "text": [
        "\n",
        "Building Hamiltonian..."
       ]
      },
      {
       "output_type": "stream",
       "stream": "stdout",
       "text": [
        "\n",
        "Solving master equation... (rhs_reuse = False)\n",
        "Calculating expectation values..."
       ]
      },
      {
       "output_type": "stream",
       "stream": "stdout",
       "text": [
        "\n",
        "Building Hamiltonian..."
       ]
      },
      {
       "output_type": "stream",
       "stream": "stdout",
       "text": [
        "\n",
        "Solving master equation... (rhs_reuse = False)\n",
        "Calculating expectation values..."
       ]
      },
      {
       "output_type": "stream",
       "stream": "stdout",
       "text": [
        "\n",
        "Building Hamiltonian..."
       ]
      },
      {
       "output_type": "stream",
       "stream": "stdout",
       "text": [
        "\n",
        "Solving master equation... (rhs_reuse = False)\n",
        "Calculating expectation values..."
       ]
      },
      {
       "output_type": "stream",
       "stream": "stdout",
       "text": [
        "\n",
        "Building Hamiltonian..."
       ]
      },
      {
       "output_type": "stream",
       "stream": "stdout",
       "text": [
        "\n",
        "Solving master equation... (rhs_reuse = False)\n",
        "Calculating expectation values..."
       ]
      },
      {
       "output_type": "stream",
       "stream": "stdout",
       "text": [
        "\n",
        "Building Hamiltonian..."
       ]
      },
      {
       "output_type": "stream",
       "stream": "stdout",
       "text": [
        "\n",
        "Solving master equation... (rhs_reuse = False)\n",
        "Calculating expectation values..."
       ]
      },
      {
       "output_type": "stream",
       "stream": "stdout",
       "text": [
        "\n",
        "Building Hamiltonian..."
       ]
      },
      {
       "output_type": "stream",
       "stream": "stdout",
       "text": [
        "\n",
        "Solving master equation... (rhs_reuse = False)\n",
        "Calculating expectation values..."
       ]
      },
      {
       "output_type": "stream",
       "stream": "stdout",
       "text": [
        "\n",
        "Building Hamiltonian..."
       ]
      },
      {
       "output_type": "stream",
       "stream": "stdout",
       "text": [
        "\n",
        "Solving master equation... (rhs_reuse = False)\n",
        "Calculating expectation values..."
       ]
      },
      {
       "output_type": "stream",
       "stream": "stdout",
       "text": [
        "\n",
        "Building Hamiltonian..."
       ]
      },
      {
       "output_type": "stream",
       "stream": "stdout",
       "text": [
        "\n",
        "Solving master equation... (rhs_reuse = False)\n",
        "Calculating expectation values..."
       ]
      },
      {
       "output_type": "stream",
       "stream": "stdout",
       "text": [
        "\n",
        "Building Hamiltonian..."
       ]
      },
      {
       "output_type": "stream",
       "stream": "stdout",
       "text": [
        "\n",
        "Solving master equation... (rhs_reuse = False)\n",
        "Calculating expectation values..."
       ]
      },
      {
       "output_type": "stream",
       "stream": "stdout",
       "text": [
        "\n",
        "Building Hamiltonian..."
       ]
      },
      {
       "output_type": "stream",
       "stream": "stdout",
       "text": [
        "\n",
        "Solving master equation... (rhs_reuse = False)\n",
        "Calculating expectation values..."
       ]
      },
      {
       "output_type": "stream",
       "stream": "stdout",
       "text": [
        "\n",
        "Building Hamiltonian..."
       ]
      },
      {
       "output_type": "stream",
       "stream": "stdout",
       "text": [
        "\n",
        "Solving master equation... (rhs_reuse = False)\n",
        "Calculating expectation values..."
       ]
      },
      {
       "output_type": "stream",
       "stream": "stdout",
       "text": [
        "\n"
       ]
      }
     ],
     "prompt_number": 4
    },
    {
     "cell_type": "code",
     "collapsed": false,
     "input": [
      "''' \n",
      "train = build_train(tlen)\n",
      "builds an array of dictionary keys selected from 'matricies'\n",
      "\n",
      "arguments:\n",
      "    tlen = length of the randomized pulse train\n",
      "\n",
      "return:\n",
      "    train = array of dictionary keys\n",
      "'''\n",
      "train = rbsim.build_train(tlen)"
     ],
     "language": "python",
     "metadata": {},
     "outputs": [],
     "prompt_number": 4
    },
    {
     "cell_type": "code",
     "collapsed": false,
     "input": [
      "''' \n",
      "psis = sim_ideal(train, psi0)\n",
      "builds an array of ideal psis as the train is applied to psi0\n",
      "\n",
      "arguments:\n",
      "    train = array of dictionary keys\n",
      "    psi0 = starting psi value (default = basis(2,0))\n",
      "\n",
      "return:\n",
      "    psis = array of psis\n",
      "'''\n",
      "psis = rbsim.sim_ideal(train)"
     ],
     "language": "python",
     "metadata": {},
     "outputs": [],
     "prompt_number": 5
    },
    {
     "cell_type": "code",
     "collapsed": false,
     "input": [
      "''' \n",
      "sqr = build_sequence(train)\n",
      "creates a sequencer for the pulse sequence based off of the train array\n",
      "\n",
      "arguments:\n",
      "    train = array of dictionary keys\n",
      "\n",
      "return:\n",
      "    sqr = sequencer for pulse sequence\n",
      "'''\n",
      "sqr = rbsim.build_sequence(train)"
     ],
     "language": "python",
     "metadata": {},
     "outputs": [],
     "prompt_number": 6
    },
    {
     "cell_type": "code",
     "collapsed": false,
     "input": [
      "''' \n",
      "plot_sequence(sqr)\n",
      "plots the pulse sequence produced by the sequencer\n",
      "\n",
      "arguments:\n",
      "    sqr = sequencer for pulse sequence\n",
      "'''\n",
      "rbsim.plot_sequence(sqr)"
     ],
     "language": "python",
     "metadata": {},
     "outputs": [],
     "prompt_number": 7
    },
    {
     "cell_type": "code",
     "collapsed": false,
     "input": [
      "'''\n",
      "qubit = QubitSim(qdrive, qanharm, resample_factor, filter_bw)\n",
      "initializes a qubit simulation environment\n",
      "\n",
      "arguments:\n",
      "    qdrive (default = 2*np.pi*39e6)\n",
      "    qanharm (default = -2*np.pi*250e6)\n",
      "    resample_factor (default = 4)\n",
      "    filter_bw (default = 250e6)\n",
      "    \n",
      "this is basically a qutipsim object wrapped in another object\n",
      "which gives it the basic desired properties for our simulation\n",
      "to access the qutipsim methods, type qubit.qsim.method_name\n",
      "'''\n",
      "qubit = rb.QubitSim()"
     ],
     "language": "python",
     "metadata": {},
     "outputs": [],
     "prompt_number": 8
    },
    {
     "cell_type": "code",
     "collapsed": false,
     "input": [
      "''' \n",
      "qubit = sim_actual(sqr, qubit)\n",
      "simulates the evolution of a qubit over the course of a pulse train\n",
      "\n",
      "arguments:\n",
      "    sqr = sequencer for pulse sequence\n",
      "    qubit = qubit simulation environment (default = QubitSim())\n",
      "\n",
      "return:\n",
      "    qubit = updated qubit simulation environment\n",
      "'''\n",
      "qubit = rbsim.sim_actual(sqr)"
     ],
     "language": "python",
     "metadata": {},
     "outputs": [
      {
       "output_type": "stream",
       "stream": "stdout",
       "text": [
        "Building Hamiltonian...\n",
        "Solving master equation... (rhs_reuse = False)\n",
        "Calculating expectation values..."
       ]
      },
      {
       "output_type": "stream",
       "stream": "stdout",
       "text": [
        "\n"
       ]
      }
     ],
     "prompt_number": 9
    },
    {
     "cell_type": "code",
     "collapsed": false,
     "input": [
      "''' \n",
      "plot_bloch(qubit)\n",
      "plots the evolution of the qubit simulation environment on the bloch sphere\n",
      "\n",
      "arguments:\n",
      "    qubit = qubit simulation environment\n",
      "'''\n",
      "rbsim.plot_bloch(qubit)"
     ],
     "language": "python",
     "metadata": {},
     "outputs": [],
     "prompt_number": 15
    },
    {
     "cell_type": "code",
     "collapsed": false,
     "input": [
      "''' \n",
      "fid = fidelity(psis, qubit, tlen)\n",
      "determined the fidelity over the course of a qubit operation\n",
      "\n",
      "arguments:\n",
      "    psis = array of ideal psis\n",
      "    qubit = qubit simulation environment\n",
      "    tlen = length of the randomized pulse train\n",
      "\n",
      "return:\n",
      "    fid = array of fidelities\n",
      "'''\n",
      "fid = rbsim.fidelity(psis, qubit, tlen)"
     ],
     "language": "python",
     "metadata": {},
     "outputs": [],
     "prompt_number": 17
    },
    {
     "cell_type": "code",
     "collapsed": false,
     "input": [
      "'''Scratch work'''\n",
      "# hot fix for lack of sds return value (now added to simulate)\n",
      "# remove [:,0] if loading data\n",
      "sds = []\n",
      "for i in range(0,len(np.array(avg))[:,0]):\n",
      "    sds.append(0.05)"
     ],
     "language": "python",
     "metadata": {},
     "outputs": [],
     "prompt_number": 14
    },
    {
     "cell_type": "code",
     "collapsed": false,
     "input": [
      "'''Scratch work'''\n",
      "# need to import numpy and pyplot\n",
      "'''import numpy as np\n",
      "import matplotlib.pyplot as plt'''\n",
      "# np.savetxt(fname, varname) will store a variable in a file\n",
      "# np.array(avg)[:,0] is necessary to transform avg for plotting\n",
      "# nonposy='mask' hides the non-positive y values\n",
      "# subsy=[] will put ticks at locations in the array\n",
      "# can use [::10] and range(,,10) to show less detail in plot\n",
      "plt.figure()\n",
      "plt.errorbar(range(0, 2*tlen+1), np.log(avg)+1, yerr=sds, label='Avg')\n",
      "plt.plot(range(0, 2*tlen+1), fit2, label='Avg 2')\n",
      "plt.suptitle('Average Fidelity vs. Pulse Train Length Log')\n",
      "#plt.yscale('log')\n",
      "plt.ylim(0.5,1.1)\n",
      "plt.legend(loc=3)"
     ],
     "language": "python",
     "metadata": {},
     "outputs": [
      {
       "metadata": {},
       "output_type": "pyout",
       "prompt_number": 91,
       "text": [
        "<matplotlib.legend.Legend at 0x114d7fad0>"
       ]
      }
     ],
     "prompt_number": 91
    },
    {
     "cell_type": "code",
     "collapsed": false,
     "input": [
      "# load data\n",
      "avg = np.loadtxt('avg402.txt')\n",
      "sds = np.loadtxt('sds402.txt')"
     ],
     "language": "python",
     "metadata": {},
     "outputs": [],
     "prompt_number": 5
    },
    {
     "cell_type": "code",
     "collapsed": false,
     "input": [
      "# fot curve fitting\n",
      "import scipy.optimize as opt\n",
      "import numpy as np\n",
      "import matplotlib.pyplot as plt"
     ],
     "language": "python",
     "metadata": {},
     "outputs": [],
     "prompt_number": 4
    },
    {
     "cell_type": "code",
     "collapsed": false,
     "input": [
      "'''def f(x,b):\n",
      "    return 10**(-b * x)\n",
      "popt, pcov = opt.curve_fit(f,range(0, 2*tlen+1),avg)\n",
      "def f2(x,m):\n",
      "    return m * x + 1\n",
      "popt2, pcov2 = opt.curve_fit(f2,range(0, 2*tlen+1),np.log(avg)+1)'''\n",
      "def f(x,b):\n",
      "    return 10**(-b * x)\n",
      "popt, pcov = opt.curve_fit(f,range(0, 2*tlen+1),2*avg-1)\n",
      "def f2(x,b):\n",
      "    return -b * x + 0.5\n",
      "popt2, pcov2 = opt.curve_fit(f2,range(0, 2*tlen+1),np.log(avg)+0.5)"
     ],
     "language": "python",
     "metadata": {},
     "outputs": [],
     "prompt_number": 23
    },
    {
     "cell_type": "code",
     "collapsed": false,
     "input": [
      "fit = f(np.arange(0,2*tlen+1),popt[0])\n",
      "fit2 = f2(np.arange(0,2*tlen+1),popt2[0])"
     ],
     "language": "python",
     "metadata": {},
     "outputs": [],
     "prompt_number": 24
    },
    {
     "cell_type": "code",
     "collapsed": false,
     "input": [
      "popt"
     ],
     "language": "python",
     "metadata": {},
     "outputs": [
      {
       "metadata": {},
       "output_type": "pyout",
       "prompt_number": 25,
       "text": [
        "array([ 0.00861619])"
       ]
      }
     ],
     "prompt_number": 25
    },
    {
     "cell_type": "code",
     "collapsed": false,
     "input": [
      "popt2"
     ],
     "language": "python",
     "metadata": {},
     "outputs": [
      {
       "metadata": {},
       "output_type": "pyout",
       "prompt_number": 75,
       "text": [
        "array([-0.00301039])"
       ]
      }
     ],
     "prompt_number": 75
    },
    {
     "cell_type": "code",
     "collapsed": false,
     "input": [
      "plt.show()"
     ],
     "language": "python",
     "metadata": {},
     "outputs": [],
     "prompt_number": 34
    },
    {
     "cell_type": "code",
     "collapsed": false,
     "input": [
      "'''Scratch work'''\n",
      "# need to import numpy and pyplot\n",
      "'''import numpy as np\n",
      "import matplotlib.pyplot as plt'''\n",
      "# np.savetxt(fname, varname) will store a variable in a file\n",
      "# np.array(avg)[:,0] is necessary to transform avg for plotting\n",
      "# nonposy='mask' hides the non-positive y values\n",
      "# subsy=[] will put ticks at locations in the array\n",
      "# can use [::10] and range(,,10) to show less detail in plot\n",
      "plt.figure()\n",
      "plt.errorbar(range(0, 2*tlen+1), 2*avg-1, yerr=sds, label='Avg')\n",
      "plt.plot(range(0, 2*tlen+1), fit, label='Fit')\n",
      "plt.suptitle('Average Fidelity vs. Pulse Train Length (Log)')\n",
      "plt.xlabel('Pulse Train Length')\n",
      "plt.ylabel('2*(Average Fidelity)-1')\n",
      "plt.yscale('log', nonposy='clip')\n",
      "plt.ylim(0,1)\n",
      "plt.legend(loc=3)"
     ],
     "language": "python",
     "metadata": {},
     "outputs": [
      {
       "metadata": {},
       "output_type": "pyout",
       "prompt_number": 30,
       "text": [
        "<matplotlib.legend.Legend at 0x112066b90>"
       ]
      }
     ],
     "prompt_number": 30
    },
    {
     "cell_type": "code",
     "collapsed": false,
     "input": [
      "'''Scratch work'''\n",
      "# need to import numpy and pyplot\n",
      "'''import numpy as np\n",
      "import matplotlib.pyplot as plt'''\n",
      "# np.savetxt(fname, varname) will store a variable in a file\n",
      "# np.array(avg)[:,0] is necessary to transform avg for plotting\n",
      "# nonposy='mask' hides the non-positive y values\n",
      "# subsy=[] will put ticks at locations in the array\n",
      "# can use [::10] and range(,,10) to show less detail in plot\n",
      "plt.figure()\n",
      "plt.errorbar(range(0, 2*tlen+1), 2*np.array(avg)[:,0]-1, yerr=sds, label='Avg')\n",
      "plt.plot(range(0, 2*tlen+1), fit, label='Avg 2')\n",
      "plt.suptitle('Average Fidelity vs. Pulse Train Length (Log)')\n",
      "plt.ylim(0,1)\n",
      "#plt.yscale('log',subsy=[0.5,0.52,0.55,0.6,0.7,0.8], nonposy='clip')\n",
      "\n",
      "plt.legend(loc=3)"
     ],
     "language": "python",
     "metadata": {},
     "outputs": [
      {
       "ename": "IndexError",
       "evalue": "too many indices",
       "output_type": "pyerr",
       "traceback": [
        "\u001b[0;31m---------------------------------------------------------------------------\u001b[0m\n\u001b[0;31mIndexError\u001b[0m                                Traceback (most recent call last)",
        "\u001b[0;32m<ipython-input-12-f983d5079058>\u001b[0m in \u001b[0;36m<module>\u001b[0;34m()\u001b[0m\n\u001b[1;32m      9\u001b[0m \u001b[0;31m# can use [::10] and range(,,10) to show less detail in plot\u001b[0m\u001b[0;34m\u001b[0m\u001b[0;34m\u001b[0m\u001b[0m\n\u001b[1;32m     10\u001b[0m \u001b[0mplt\u001b[0m\u001b[0;34m.\u001b[0m\u001b[0mfigure\u001b[0m\u001b[0;34m(\u001b[0m\u001b[0;34m)\u001b[0m\u001b[0;34m\u001b[0m\u001b[0m\n\u001b[0;32m---> 11\u001b[0;31m \u001b[0mplt\u001b[0m\u001b[0;34m.\u001b[0m\u001b[0merrorbar\u001b[0m\u001b[0;34m(\u001b[0m\u001b[0mrange\u001b[0m\u001b[0;34m(\u001b[0m\u001b[0;36m0\u001b[0m\u001b[0;34m,\u001b[0m \u001b[0;36m2\u001b[0m\u001b[0;34m*\u001b[0m\u001b[0mtlen\u001b[0m\u001b[0;34m+\u001b[0m\u001b[0;36m1\u001b[0m\u001b[0;34m)\u001b[0m\u001b[0;34m,\u001b[0m \u001b[0;36m2\u001b[0m\u001b[0;34m*\u001b[0m\u001b[0mnp\u001b[0m\u001b[0;34m.\u001b[0m\u001b[0marray\u001b[0m\u001b[0;34m(\u001b[0m\u001b[0mavg\u001b[0m\u001b[0;34m)\u001b[0m\u001b[0;34m[\u001b[0m\u001b[0;34m:\u001b[0m\u001b[0;34m,\u001b[0m\u001b[0;36m0\u001b[0m\u001b[0;34m]\u001b[0m\u001b[0;34m-\u001b[0m\u001b[0;36m1\u001b[0m\u001b[0;34m,\u001b[0m \u001b[0myerr\u001b[0m\u001b[0;34m=\u001b[0m\u001b[0msds\u001b[0m\u001b[0;34m,\u001b[0m \u001b[0mlabel\u001b[0m\u001b[0;34m=\u001b[0m\u001b[0;34m'Avg'\u001b[0m\u001b[0;34m)\u001b[0m\u001b[0;34m\u001b[0m\u001b[0m\n\u001b[0m\u001b[1;32m     12\u001b[0m \u001b[0mplt\u001b[0m\u001b[0;34m.\u001b[0m\u001b[0mplot\u001b[0m\u001b[0;34m(\u001b[0m\u001b[0mrange\u001b[0m\u001b[0;34m(\u001b[0m\u001b[0;36m0\u001b[0m\u001b[0;34m,\u001b[0m \u001b[0;36m2\u001b[0m\u001b[0;34m*\u001b[0m\u001b[0mtlen\u001b[0m\u001b[0;34m+\u001b[0m\u001b[0;36m1\u001b[0m\u001b[0;34m)\u001b[0m\u001b[0;34m,\u001b[0m \u001b[0mfit\u001b[0m\u001b[0;34m,\u001b[0m \u001b[0mlabel\u001b[0m\u001b[0;34m=\u001b[0m\u001b[0;34m'Avg 2'\u001b[0m\u001b[0;34m)\u001b[0m\u001b[0;34m\u001b[0m\u001b[0m\n\u001b[1;32m     13\u001b[0m \u001b[0mplt\u001b[0m\u001b[0;34m.\u001b[0m\u001b[0msuptitle\u001b[0m\u001b[0;34m(\u001b[0m\u001b[0;34m'Average Fidelity vs. Pulse Train Length (Log)'\u001b[0m\u001b[0;34m)\u001b[0m\u001b[0;34m\u001b[0m\u001b[0m\n",
        "\u001b[0;31mIndexError\u001b[0m: too many indices"
       ]
      }
     ],
     "prompt_number": 12
    },
    {
     "cell_type": "code",
     "collapsed": false,
     "input": [
      "popt"
     ],
     "language": "python",
     "metadata": {},
     "outputs": [
      {
       "metadata": {},
       "output_type": "pyout",
       "prompt_number": 11,
       "text": [
        "array([ 0.03248511])"
       ]
      }
     ],
     "prompt_number": 11
    },
    {
     "cell_type": "code",
     "collapsed": false,
     "input": [
      "popt[0]*100"
     ],
     "language": "python",
     "metadata": {},
     "outputs": [
      {
       "metadata": {},
       "output_type": "pyout",
       "prompt_number": 10,
       "text": [
        "3.2485110591531861"
       ]
      }
     ],
     "prompt_number": 10
    },
    {
     "cell_type": "code",
     "collapsed": false,
     "input": [
      "np.savetxt('avg402.txt',avg)"
     ],
     "language": "python",
     "metadata": {},
     "outputs": [],
     "prompt_number": 6
    },
    {
     "cell_type": "code",
     "collapsed": false,
     "input": [
      "np.savetxt('sds402.txt',sds)"
     ],
     "language": "python",
     "metadata": {},
     "outputs": [],
     "prompt_number": 7
    },
    {
     "cell_type": "code",
     "collapsed": false,
     "input": [
      "avg"
     ],
     "language": "python",
     "metadata": {},
     "outputs": [
      {
       "metadata": {},
       "output_type": "pyout",
       "prompt_number": 15,
       "text": [
        "array([ 1.        ,  0.99511972,  0.98595081,  0.98288988,  0.96328177,\n",
        "        0.95828191,  0.93871694,  0.93702   ,  0.92445997,  0.9239829 ,\n",
        "        0.90512424,  0.90046092,  0.88782986,  0.88773989,  0.88054149,\n",
        "        0.87533833,  0.87153995,  0.86726307,  0.85308276,  0.8562206 ,\n",
        "        0.83903343,  0.83874924,  0.83005441,  0.83041179,  0.81418662,\n",
        "        0.81050437,  0.79319305,  0.78972665,  0.76969564,  0.76614087,\n",
        "        0.74793691,  0.74729207,  0.73856452,  0.7368832 ,  0.7307499 ,\n",
        "        0.72970078,  0.72596922,  0.72672026,  0.72828089,  0.72341459,\n",
        "        0.72415789,  0.72085649,  0.71597965,  0.71362083,  0.70535276,\n",
        "        0.70341151,  0.70252443,  0.69920449,  0.70098751,  0.69612881,\n",
        "        0.69236607,  0.6892489 ,  0.68018408,  0.6843603 ,  0.69074339,\n",
        "        0.69359947,  0.68059202,  0.6813267 ,  0.66719842,  0.66506887,\n",
        "        0.6589634 ,  0.65785609,  0.65277341,  0.65118138,  0.64975618,\n",
        "        0.64045209,  0.63252691,  0.6310088 ,  0.62429667,  0.62370603,\n",
        "        0.61844362,  0.61573177,  0.61251672,  0.6086074 ,  0.61328307,\n",
        "        0.61486738,  0.62051055,  0.62088922,  0.60892008,  0.6059116 ,\n",
        "        0.60178653,  0.60419285,  0.60904696,  0.60675686,  0.59781036,\n",
        "        0.60172231,  0.59357232,  0.59016464,  0.580714  ,  0.57955697,\n",
        "        0.59006961,  0.59266784,  0.58632251,  0.58908283,  0.57380671,\n",
        "        0.57588546,  0.56910707,  0.57547   ,  0.55571303,  0.55119456,\n",
        "        0.52924607])"
       ]
      }
     ],
     "prompt_number": 15
    },
    {
     "cell_type": "code",
     "collapsed": false,
     "input": [],
     "language": "python",
     "metadata": {},
     "outputs": []
    }
   ],
   "metadata": {}
  }
 ]
}