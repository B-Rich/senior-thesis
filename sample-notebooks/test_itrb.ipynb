{
 "metadata": {
  "name": "",
  "signature": "sha256:afd989111e6b9d6dc5e8caa8ea84af418363b4f116c5a76702d3d2244bef5c7e"
 },
 "nbformat": 3,
 "nbformat_minor": 0,
 "worksheets": [
  {
   "cells": [
    {
     "cell_type": "code",
     "collapsed": false,
     "input": [
      "'''\n",
      "test_itrb.ipynb\n",
      "\n",
      "this notebook is a tutorial of rb.py's interleaved train benchmarking functionality\n",
      "\n",
      "Peter Karalekas (2015)\n",
      "'''\n",
      "%matplotlib osx\n",
      "import qutipsim.rb as rb"
     ],
     "language": "python",
     "metadata": {},
     "outputs": [],
     "prompt_number": 2
    },
    {
     "cell_type": "code",
     "collapsed": false,
     "input": [
      "'''\n",
      "instance variables\n",
      "    runs = number of simulations to run\n",
      "    tlen = length of the randomized pulse train\n",
      "    pulse = the pulse to interleave\n",
      "    n = the length of the interleaved pulse train\n",
      "'''\n",
      "runs = 5\n",
      "tlen = 20\n",
      "pulse = 'cxp'\n",
      "n = 5"
     ],
     "language": "python",
     "metadata": {},
     "outputs": [],
     "prompt_number": 3
    },
    {
     "cell_type": "code",
     "collapsed": false,
     "input": [
      "'''\n",
      "itrbsim = ITRBSim()\n",
      "initializes an interleaved train benchmarking simulation\n",
      "inherits from the RBSim() class\n",
      "'''\n",
      "itrbsim = rb.ITRBSim()"
     ],
     "language": "python",
     "metadata": {},
     "outputs": [],
     "prompt_number": 5
    },
    {
     "cell_type": "code",
     "collapsed": false,
     "input": [
      "'''\n",
      "class variables\n",
      "\n",
      "cliffordM = dictionary of clifford matricies\n",
      "    'cxp' = pi/2 in +x\n",
      "    'cxm' = pi/2 in -x\n",
      "    'cyp' = pi/2 in +y\n",
      "    'cym' = pi/2 in -y\n",
      "    \n",
      "pauliM = dictionary of pauli matricies\n",
      "    'px' = pi in x\n",
      "    'py' = pi in y\n",
      "    \n",
      "matricies = combined dictionary\n",
      "'''\n",
      "itrbsim.cliffordM['cxp']"
     ],
     "language": "python",
     "metadata": {},
     "outputs": [
      {
       "latex": [
        "Quantum object: dims = [[2], [2]], shape = [2, 2], type = oper, isherm = False\\begin{equation*}\\left(\\begin{array}{*{11}c}0.707 & -0.707j\\\\-0.707j & 0.707\\\\\\end{array}\\right)\\end{equation*}"
       ],
       "metadata": {},
       "output_type": "pyout",
       "prompt_number": 6,
       "text": [
        "Quantum object: dims = [[2], [2]], shape = [2, 2], type = oper, isherm = False\n",
        "Qobj data =\n",
        "[[ 0.70710678+0.j          0.00000000-0.70710678j]\n",
        " [ 0.00000000-0.70710678j  0.70710678+0.j        ]]"
       ]
      }
     ],
     "prompt_number": 6
    },
    {
     "cell_type": "code",
     "collapsed": false,
     "input": [
      "''' \n",
      "avg, sds = simulate(pulse, n, runs, tlen)\n",
      "runs a randomized benchmarking simulation\n",
      "\n",
      "arguments:\n",
      "    runs = number of simulations to run\n",
      "    tlen = length of the randomized pulse train\n",
      "    pulse = the pulse to interleave\n",
      "    n = the length of the interleaved pulse train\n",
      "\n",
      "return:\n",
      "    avg = array of average fidelity\n",
      "    sds = array of standard deviations\n",
      "    \n",
      "used methods:\n",
      "    build_train\n",
      "    sim_ideal\n",
      "    build_sequence\n",
      "    sim_actual\n",
      "    fidelity\n",
      "    plot_sequence\n",
      "    plot_bloch\n",
      "    \n",
      "simulate uses many other class methods with default arguments\n",
      "but, these methods can be used standalone (see below)\n",
      "'''\n",
      "avg, sds = itrbsim.simulate(pulse, n, runs, tlen)"
     ],
     "language": "python",
     "metadata": {},
     "outputs": []
    },
    {
     "cell_type": "code",
     "collapsed": false,
     "input": [
      "''' \n",
      "train = build_train(pulse, n, tlen)\n",
      "builds an array of dictionary keys selected from 'matricies'\n",
      "\n",
      "arguments:\n",
      "    tlen = length of the randomized pulse train\n",
      "    pulse = the pulse to interleave\n",
      "    n = the length of the interleaved pulse train\n",
      "\n",
      "return:\n",
      "    train = array of dictionary keys\n",
      "'''\n",
      "train = itrbsim.build_train(pulse, n, tlen)"
     ],
     "language": "python",
     "metadata": {},
     "outputs": []
    },
    {
     "cell_type": "code",
     "collapsed": false,
     "input": [
      "''' \n",
      "fid = fidelity(n, psis, qubit, tlen)\n",
      "determined the fidelity over the course of a qubit operation\n",
      "\n",
      "arguments:\n",
      "    psis = array of ideal psis\n",
      "    qubit = qubit simulation environment\n",
      "    tlen = length of the randomized pulse train\n",
      "    n = the length of the interleaved pulse train\n",
      "\n",
      "return:\n",
      "    fid = array of fidelities\n",
      "'''\n",
      "fid = itrbsim.fidelity(n, psis, qubit, tlen)"
     ],
     "language": "python",
     "metadata": {},
     "outputs": []
    }
   ],
   "metadata": {}
  }
 ]
}